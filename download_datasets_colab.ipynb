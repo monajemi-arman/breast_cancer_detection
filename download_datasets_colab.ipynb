{
 "cells": [
  {
   "cell_type": "code",
   "execution_count": null,
   "id": "f9429a50-9c2a-4e4e-85e6-ce4a2426150f",
   "metadata": {},
   "outputs": [],
   "source": [
    "# Install necessary packages\n",
    "!pip install -q kaggle\n",
    "\n",
    "# Upload your Kaggle API token to access datasets (Make sure to have 'kaggle.json')\n",
    "from google.colab import files\n",
    "files.upload()  # Upload the 'kaggle.json' file here\n",
    "\n",
    "# Move the Kaggle JSON file to the correct directory\n",
    "!mkdir -p ~/.kaggle\n",
    "!mv kaggle.json ~/.kaggle/\n",
    "!chmod 600 ~/.kaggle/kaggle.json\n",
    "\n",
    "# Clone the GitHub repository for breast cancer detection\n",
    "!git clone https://github.com/monajemi-arman/breast_cancer_detection\n",
    "\n",
    "# Create necessary directories inside the cloned repository\n",
    "!mkdir -p breast_cancer_detection/datasets/CBIS-DDSM/csv\n",
    "!mkdir -p breast_cancer_detection/datasets/CBIS-DDSM/jpeg\n",
    "\n",
    "# Download the datasets from Kaggle\n",
    "# MIAS Dataset\n",
    "!kaggle datasets download -d kmader/mias-mammography -p breast_cancer_detection/datasets --unzip\n",
    "\n",
    "# CBIS-DDSM Dataset\n",
    "!kaggle datasets download -d awsaf49/cbis-ddsm-breast-cancer-image-dataset -p breast_cancer_detection/datasets/CBIS-DDSM --unzip\n",
    "\n",
    "# INbreast Dataset\n",
    "!kaggle datasets download -d ramanathansp20/inbreast-dataset -p breast_cancer_detection/datasets --unzip\n",
    "\n",
    "# Organize CBIS-DDSM dataset (Optional, if needs specific CSV or JPEG folders)\n",
    "!mv breast_cancer_detection/datasets/CBIS-DDSM/*/*.csv breast_cancer_detection/datasets/CBIS-DDSM/csv\n",
    "!mv breast_cancer_detection/datasets/CBIS-DDSM/*/*.jpg breast_cancer_detection/datasets/CBIS-DDSM/jpeg\n"
   ]
  }
 ],
 "metadata": {
  "kernelspec": {
   "display_name": "Python 3 (ipykernel)",
   "language": "python",
   "name": "python3"
  },
  "language_info": {
   "codemirror_mode": {
    "name": "ipython",
    "version": 3
   },
   "file_extension": ".py",
   "mimetype": "text/x-python",
   "name": "python",
   "nbconvert_exporter": "python",
   "pygments_lexer": "ipython3",
   "version": "3.11.9"
  }
 },
 "nbformat": 4,
 "nbformat_minor": 5
}
